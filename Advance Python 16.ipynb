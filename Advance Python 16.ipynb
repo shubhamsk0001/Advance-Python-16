{
 "cells": [
  {
   "cell_type": "code",
   "execution_count": null,
   "id": "4b15ea43",
   "metadata": {},
   "outputs": [],
   "source": [
    "Q1. What is the benefit of regular expressions?"
   ]
  },
  {
   "cell_type": "code",
   "execution_count": null,
   "id": "093a17c3",
   "metadata": {},
   "outputs": [],
   "source": [
    " Regular Expressions, also known as regex or regexp, are used to match strings of text such as particular characters,\n",
    "words, or patterns of characters. It means that we can match and extract any string pattern from the text with the help\n",
    "of regular expressions. it helps the programmers to Write less and cleaner code. it also avoids multiple use of if/else \n",
    "statements."
   ]
  },
  {
   "cell_type": "code",
   "execution_count": null,
   "id": "84fdeda3",
   "metadata": {},
   "outputs": [],
   "source": [
    "Q2. Describe the difference between the effects of \"(ab)c+\" and \"a(bc)+\" Which of these, if any, is the unqualified \n",
    "pattern \"abc+\"?"
   ]
  },
  {
   "cell_type": "code",
   "execution_count": null,
   "id": "2a51eda1",
   "metadata": {},
   "outputs": [],
   "source": [
    "Both (ab)c+ and a(bc)+ are valid patterns. the difference between both these patterns is in (ab)c+ ab is group whereas\n",
    "in a(bc)+ bc is a group."
   ]
  },
  {
   "cell_type": "code",
   "execution_count": null,
   "id": "b26c6537",
   "metadata": {},
   "outputs": [],
   "source": [
    "Q3. How much do you need to use the following sentence while using regular expressions?"
   ]
  },
  {
   "cell_type": "code",
   "execution_count": null,
   "id": "ff8d4446",
   "metadata": {},
   "outputs": [],
   "source": [
    "import re statement always has to be imported before using regular expressions."
   ]
  },
  {
   "cell_type": "code",
   "execution_count": null,
   "id": "e016b421",
   "metadata": {},
   "outputs": [],
   "source": [
    "Q4. Which characters have special significance in square brackets when expressing a range, and under what circumstances?"
   ]
  },
  {
   "cell_type": "code",
   "execution_count": null,
   "id": "34c82d28",
   "metadata": {},
   "outputs": [],
   "source": [
    " The Characters .,*,?,^,or,(), have a special signiface when used with square brackets. They need not be be explicitly \n",
    "escaped by \\ as in case of pattern texts in a raw string."
   ]
  },
  {
   "cell_type": "code",
   "execution_count": null,
   "id": "9e10ba9a",
   "metadata": {},
   "outputs": [],
   "source": [
    "Q5. How does compiling a regular-expression object benefit you?"
   ]
  },
  {
   "cell_type": "code",
   "execution_count": null,
   "id": "73ac2f4f",
   "metadata": {},
   "outputs": [],
   "source": [
    "We can Combine a regular expression pattern into pattern Objects.Which can be used for pattern matching. it also helps \n",
    "to search a pattern again without rewritting it."
   ]
  },
  {
   "cell_type": "code",
   "execution_count": null,
   "id": "72cb21d6",
   "metadata": {},
   "outputs": [],
   "source": [
    "Q6. What are some examples of how to use the match object returned by re.match and re.search?"
   ]
  },
  {
   "cell_type": "code",
   "execution_count": null,
   "id": "0e9dd8d9",
   "metadata": {},
   "outputs": [],
   "source": [
    "The re.search() and re.match() both are functions of re module in python. These functions are very efficient and fast \n",
    "for searching in strings. The function searches for some substring in a string and returns a match object if found, else\n",
    "it returns none.\n",
    "\n",
    "There is a difference between the use of both functions. Both return the first match of a substring found in the string,\n",
    "but re.match() searches only from the beginning of the string and return match object if found. But if a match of \n",
    "substring is found somewhere in the middle of the string, it returns none.\n",
    "\n",
    "While re.search() searches for the whole string even if the string contains multi-lines and tries to find a match of the \n",
    "substring in all the lines of string"
   ]
  },
  {
   "cell_type": "code",
   "execution_count": 1,
   "id": "dfb28979",
   "metadata": {},
   "outputs": [
    {
     "name": "stdout",
     "output_type": "stream",
     "text": [
      "<re.Match object; span=(66, 72), match='string'>\n",
      "None\n",
      "<re.Match object; span=(0, 6), match='string'>\n",
      "<re.Match object; span=(0, 6), match='string'>\n"
     ]
    }
   ],
   "source": [
    "import re\n",
    "Substring ='string' \n",
    "String1 ='We are learning regex with geeksforgeeks regex is very useful for string matching. It is fast too.' \n",
    "String2 ='string We are learning regex with geeksforgeeks regex is very useful for string matching. It is fast too.'\n",
    "print(re.search(Substring, String1, re.IGNORECASE))\n",
    "print(re.match(Substring, String1, re.IGNORECASE))\n",
    "print(re.search(Substring, String2, re.IGNORECASE))\n",
    "print(re.match(Substring, String2, re.IGNORECASE))"
   ]
  },
  {
   "cell_type": "code",
   "execution_count": null,
   "id": "e86f0b0d",
   "metadata": {},
   "outputs": [],
   "source": [
    "Q7. What is the difference between using a vertical bar (|) as an alteration and using square brackets as a character set?"
   ]
  },
  {
   "cell_type": "code",
   "execution_count": null,
   "id": "f7ff5f92",
   "metadata": {},
   "outputs": [],
   "source": [
    "When | us used then patterns searches for or option. i.e <pattern_1>|<pattern_2> means it searches as\n",
    "<pattern_1>or<<pattern_2> in the searched string. the first occurance of matched string will be returned as \n",
    "the Match Object. Using Character set in square Brackets searches for all the character set in the square bracket and\n",
    "if match is found, it returns it."
   ]
  },
  {
   "cell_type": "code",
   "execution_count": null,
   "id": "a42f7968",
   "metadata": {},
   "outputs": [],
   "source": [
    "Q8. In regular-expression search patterns, why is it necessary to use the raw-string indicator (r)? In replacement strings?"
   ]
  },
  {
   "cell_type": "code",
   "execution_count": null,
   "id": "c796be3f",
   "metadata": {},
   "outputs": [],
   "source": [
    "Raw Strings are used in the regular-expression search patterns, so that blackslashes donot have to be escaped."
   ]
  }
 ],
 "metadata": {
  "kernelspec": {
   "display_name": "Python 3 (ipykernel)",
   "language": "python",
   "name": "python3"
  },
  "language_info": {
   "codemirror_mode": {
    "name": "ipython",
    "version": 3
   },
   "file_extension": ".py",
   "mimetype": "text/x-python",
   "name": "python",
   "nbconvert_exporter": "python",
   "pygments_lexer": "ipython3",
   "version": "3.9.12"
  }
 },
 "nbformat": 4,
 "nbformat_minor": 5
}
